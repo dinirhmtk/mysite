{
 "cells": [
  {
   "cell_type": "code",
   "execution_count": 1,
   "metadata": {},
   "outputs": [],
   "source": [
    "import pandas as pd\n",
    "import numpy as np\n",
    "import seaborn as sns\n",
    "import matplotlib.pyplot as plt\n",
    "\n",
    "%matplotlib inline\n",
    "from mpl_toolkits.mplot3d import Axes3D\n",
    "from sklearn.cluster import KMeans\n",
    "from sklearn import preprocessing\n",
    "from sklearn.preprocessing import StandardScaler"
   ]
  },
  {
   "cell_type": "code",
   "execution_count": 2,
   "metadata": {},
   "outputs": [],
   "source": [
    "df = pd.read_csv('Book1.csv',  sep='|', engine='python')"
   ]
  },
  {
   "cell_type": "code",
   "execution_count": 3,
   "metadata": {
    "scrolled": true
   },
   "outputs": [],
   "source": [
    "data = df.drop(labels=['N_SBTINGGI', 'N_SBRENDAH', 'NRATA'], axis=1)"
   ]
  },
  {
   "cell_type": "code",
   "execution_count": 4,
   "metadata": {},
   "outputs": [
    {
     "name": "stdout",
     "output_type": "stream",
     "text": [
      "<class 'pandas.core.frame.DataFrame'>\n",
      "RangeIndex: 1615 entries, 0 to 1614\n",
      "Data columns (total 6 columns):\n",
      " #   Column     Non-Null Count  Dtype  \n",
      "---  ------     --------------  -----  \n",
      " 0   tgl        1615 non-null   object \n",
      " 1   bank-sk    1615 non-null   int64  \n",
      " 2   bank       1615 non-null   object \n",
      " 3   sb-tinggi  1615 non-null   float64\n",
      " 4   sb-rendah  1615 non-null   float64\n",
      " 5   rata       1615 non-null   float64\n",
      "dtypes: float64(3), int64(1), object(2)\n",
      "memory usage: 75.8+ KB\n"
     ]
    }
   ],
   "source": [
    "data.columns = ['tgl','bank-sk','bank','sb-tinggi','sb-rendah','rata']\n",
    "data.info()"
   ]
  },
  {
   "cell_type": "code",
   "execution_count": 15,
   "metadata": {},
   "outputs": [
    {
     "data": {
      "image/png": "[encoded data removed]",
      "text/plain": [
       "<Figure size 720x576 with 1 Axes>"
      ]
     },
     "metadata": {
      "needs_background": "light"
     },
     "output_type": "display_data"
    }
   ],
   "source": [
    "fig, ax = plt.subplots(figsize=(10,8))\n",
    "plt.scatter(data['sb-rendah'], data['sb-tinggi'], s=150, edgecolor='k', marker='o')\n",
    "plt.xlim(0,8)\n",
    "plt.ylim(0,8)\n",
    "ax.set_xlabel('Suku Bunga Terendah')\n",
    "ax.set_ylabel('Suku Bunga Tertinggi')\n",
    "plt.show()\n",
    "plt.show()"
   ]
  },
  {
   "cell_type": "code",
   "execution_count": 44,
   "metadata": {},
   "outputs": [],
   "source": [
    "dt_more = group.loc[group['sb-tinggi'] > 3.5]"
   ]
  },
  {
   "cell_type": "code",
   "execution_count": 46,
   "metadata": {},
   "outputs": [
    {
     "data": {
      "text/html": [
       "<div>\n",
       "<style scoped>\n",
       "    .dataframe tbody tr th:only-of-type {\n",
       "        vertical-align: middle;\n",
       "    }\n",
       "\n",
       "    .dataframe tbody tr th {\n",
       "        vertical-align: top;\n",
       "    }\n",
       "\n",
       "    .dataframe thead th {\n",
       "        text-align: right;\n",
       "    }\n",
       "</style>\n",
       "<table border=\"1\" class=\"dataframe\">\n",
       "  <thead>\n",
       "    <tr style=\"text-align: right;\">\n",
       "      <th></th>\n",
       "      <th></th>\n",
       "      <th>sb-tinggi</th>\n",
       "      <th>sb-rendah</th>\n",
       "    </tr>\n",
       "    <tr>\n",
       "      <th>bank-sk</th>\n",
       "      <th>bank</th>\n",
       "      <th></th>\n",
       "      <th></th>\n",
       "    </tr>\n",
       "  </thead>\n",
       "  <tbody>\n",
       "    <tr>\n",
       "      <th>46</th>\n",
       "      <th>PT.BANK DBS INDONESIA</th>\n",
       "      <td>4.000000</td>\n",
       "      <td>0.000000</td>\n",
       "    </tr>\n",
       "    <tr>\n",
       "      <th>48</th>\n",
       "      <th>PT.BANK MIZUHO INDONESIA</th>\n",
       "      <td>4.000000</td>\n",
       "      <td>0.250000</td>\n",
       "    </tr>\n",
       "    <tr>\n",
       "      <th>50</th>\n",
       "      <th>STANDARD CHARTERED BANK</th>\n",
       "      <td>5.000000</td>\n",
       "      <td>0.000000</td>\n",
       "    </tr>\n",
       "    <tr>\n",
       "      <th>95</th>\n",
       "      <th>PT.BANK JTRUST INDONESIA Tbk.</th>\n",
       "      <td>4.000000</td>\n",
       "      <td>0.000000</td>\n",
       "    </tr>\n",
       "    <tr>\n",
       "      <th>126</th>\n",
       "      <th>PT.BANK SULSELBAR</th>\n",
       "      <td>5.000000</td>\n",
       "      <td>0.250000</td>\n",
       "    </tr>\n",
       "    <tr>\n",
       "      <th>127</th>\n",
       "      <th>B.P.D. SULAWESI UTARA GORONTALO</th>\n",
       "      <td>7.000000</td>\n",
       "      <td>0.000000</td>\n",
       "    </tr>\n",
       "    <tr>\n",
       "      <th>490</th>\n",
       "      <th>PT BANK NEO COMMERCE, TBK</th>\n",
       "      <td>6.000000</td>\n",
       "      <td>1.250000</td>\n",
       "    </tr>\n",
       "    <tr>\n",
       "      <th>494</th>\n",
       "      <th>PT.BANK RAKYAT INDONESIA AGRONIAGA, Tbk.</th>\n",
       "      <td>7.000000</td>\n",
       "      <td>0.250000</td>\n",
       "    </tr>\n",
       "    <tr>\n",
       "      <th>513</th>\n",
       "      <th>PT.BANK INA PERDANA</th>\n",
       "      <td>4.000000</td>\n",
       "      <td>0.000000</td>\n",
       "    </tr>\n",
       "    <tr>\n",
       "      <th>531</th>\n",
       "      <th>PT.BANK AMAR INDONESIA</th>\n",
       "      <td>7.000000</td>\n",
       "      <td>1.000000</td>\n",
       "    </tr>\n",
       "    <tr>\n",
       "      <th>535</th>\n",
       "      <th>PT.BANK KESEJAHTERAAN EKONOMI</th>\n",
       "      <td>6.921053</td>\n",
       "      <td>0.289474</td>\n",
       "    </tr>\n",
       "    <tr>\n",
       "      <th>542</th>\n",
       "      <th>PT.BANK JAGO</th>\n",
       "      <td>7.000000</td>\n",
       "      <td>0.473684</td>\n",
       "    </tr>\n",
       "    <tr>\n",
       "      <th>564</th>\n",
       "      <th>PT.BANK MANDIRI TASPEN POS</th>\n",
       "      <td>5.000000</td>\n",
       "      <td>0.000000</td>\n",
       "    </tr>\n",
       "    <tr>\n",
       "      <th>566</th>\n",
       "      <th>PT.BANK VICTORIA INTERNATIONAL Tbk</th>\n",
       "      <td>6.000000</td>\n",
       "      <td>1.000000</td>\n",
       "    </tr>\n",
       "    <tr>\n",
       "      <th>567</th>\n",
       "      <th>PT.BANK HARDA INTERNASIONAL</th>\n",
       "      <td>4.000000</td>\n",
       "      <td>0.050000</td>\n",
       "    </tr>\n",
       "  </tbody>\n",
       "</table>\n",
       "</div>"
      ],
      "text/plain": [
       "                                                  sb-tinggi  sb-rendah\n",
       "bank-sk bank                                                          \n",
       "46      PT.BANK DBS INDONESIA                      4.000000   0.000000\n",
       "48      PT.BANK MIZUHO INDONESIA                   4.000000   0.250000\n",
       "50      STANDARD CHARTERED BANK                    5.000000   0.000000\n",
       "95      PT.BANK JTRUST INDONESIA Tbk.              4.000000   0.000000\n",
       "126     PT.BANK SULSELBAR                          5.000000   0.250000\n",
       "127     B.P.D. SULAWESI UTARA GORONTALO            7.000000   0.000000\n",
       "490     PT BANK NEO COMMERCE, TBK                  6.000000   1.250000\n",
       "494     PT.BANK RAKYAT INDONESIA AGRONIAGA, Tbk.   7.000000   0.250000\n",
       "513     PT.BANK INA PERDANA                        4.000000   0.000000\n",
       "531     PT.BANK AMAR INDONESIA                     7.000000   1.000000\n",
       "535     PT.BANK KESEJAHTERAAN EKONOMI              6.921053   0.289474\n",
       "542     PT.BANK JAGO                               7.000000   0.473684\n",
       "564     PT.BANK MANDIRI TASPEN POS                 5.000000   0.000000\n",
       "566     PT.BANK VICTORIA INTERNATIONAL Tbk         6.000000   1.000000\n",
       "567     PT.BANK HARDA INTERNASIONAL                4.000000   0.050000"
      ]
     },
     "execution_count": 46,
     "metadata": {},
     "output_type": "execute_result"
    }
   ],
   "source": [
    "dt_more"
   ]
  },
  {
   "cell_type": "code",
   "execution_count": 40,
   "metadata": {},
   "outputs": [
    {
     "name": "stderr",
     "output_type": "stream",
     "text": [
      "<ipython-input-40-056c2a72016d>:1: FutureWarning: Indexing with multiple keys (implicitly converted to a tuple of keys) will be deprecated, use a list instead.\n",
      "  group = data.groupby(['bank-sk','bank'])['sb-tinggi','sb-rendah'].mean()\n"
     ]
    }
   ],
   "source": [
    "group = data.groupby(['bank-sk','bank'])['sb-tinggi','sb-rendah'].mean()"
   ]
  },
  {
   "cell_type": "code",
   "execution_count": 41,
   "metadata": {},
   "outputs": [
    {
     "name": "stdout",
     "output_type": "stream",
     "text": [
      "<class 'pandas.core.frame.DataFrame'>\n",
      "MultiIndex: 85 entries, (2, 'PT.BANK RAKYAT INDONESIA (PERSERO) Tbk') to (950, 'PT.BANK COMMONWEALTH')\n",
      "Data columns (total 2 columns):\n",
      " #   Column     Non-Null Count  Dtype  \n",
      "---  ------     --------------  -----  \n",
      " 0   sb-tinggi  85 non-null     float64\n",
      " 1   sb-rendah  85 non-null     float64\n",
      "dtypes: float64(2)\n",
      "memory usage: 2.9+ KB\n"
     ]
    }
   ],
   "source": [
    "group.info()"
   ]
  },
  {
   "cell_type": "code",
   "execution_count": null,
   "metadata": {},
   "outputs": [],
   "source": [
    "group_reshape = group.values.reshape(-1,2)\n",
    "sc_group_reshape = StandardScaler()"
   ]
  },
  {
   "cell_type": "code",
   "execution_count": null,
   "metadata": {},
   "outputs": [],
   "source": [
    "group_std = sc_group_reshape.fit_transform(group_reshape.astype(float))"
   ]
  },
  {
   "cell_type": "code",
   "execution_count": null,
   "metadata": {},
   "outputs": [],
   "source": [
    "kmeans = KMeans(n_clusters = 10, random_state = 42)\n",
    "kmeans.fit_predict(group_std)\n",
    "\n",
    "labels = kmeans.labels_\n",
    "\n",
    "from sklearn.metrics import silhouette_score\n",
    "score = silhouette_score(group_std, kmeans.labels_, metric='euclidean')\n",
    "print('Silhouetter Score: %.3f' % score)"
   ]
  },
  {
   "cell_type": "code",
   "execution_count": null,
   "metadata": {},
   "outputs": [],
   "source": [
    "sns.scatterplot(group_std[0],group_std[1],hue=labels,palette='inferno_r')"
   ]
  },
  {
   "cell_type": "code",
   "execution_count": null,
   "metadata": {},
   "outputs": [],
   "source": [
    "new_group = pd.DataFrame(data = group_std, columns = ['sb-rendah','sb-tinggi'])\n",
    "new_group['label_kmeans'] = labels"
   ]
  },
  {
   "cell_type": "code",
   "execution_count": null,
   "metadata": {},
   "outputs": [],
   "source": [
    "fig, ax = plt.subplots(figsize=(10,8))\n",
    "\n",
    "plt.scatter(new_group['sb-rendah'][new_group['label_kmeans'] == 0],\n",
    "            new_group['sb-tinggi'][new_group['label_kmeans'] == 0],\n",
    "            color = \"blue\", s=100, edgecolor='green',linestyle='--')\n",
    "\n",
    "plt.scatter(new_group['sb-rendah'][new_group['label_kmeans'] == 1],\n",
    "            new_group['sb-tinggi'][new_group['label_kmeans'] == 1],\n",
    "            color = \"red\", s=100, edgecolor='green',linestyle='--')\n",
    "\n",
    "plt.scatter(new_group['sb-rendah'][new_group['label_kmeans'] == 2],\n",
    "            new_group['sb-tinggi'][new_group['label_kmeans'] == 2],\n",
    "            color = \"green\", s=100, edgecolor='green',linestyle='--')\n",
    "\n",
    "plt.scatter(new_group['sb-rendah'][new_group['label_kmeans'] == 3],\n",
    "            new_group['sb-tinggi'][new_group['label_kmeans'] == 3],\n",
    "            color = \"yellow\", s=100, edgecolor='green',linestyle='--')\n",
    "\n",
    "plt.scatter(new_group['sb-rendah'][new_group['label_kmeans'] == 4],\n",
    "            new_group['sb-tinggi'][new_group['label_kmeans'] == 4],\n",
    "            color = \"black\", s=100, edgecolor='green',linestyle='--')\n",
    "\n",
    "plt.scatter(new_group['sb-rendah'][new_group['label_kmeans'] == 5],\n",
    "            new_group['sb-tinggi'][new_group['label_kmeans'] == 5],\n",
    "            color = \"purple\", s=100, edgecolor='green',linestyle='--')\n",
    "\n",
    "ax.set_xlabel('sb-rendah')\n",
    "ax.set_ylabel('sb-tinggi')\n",
    "plt.show()"
   ]
  },
  {
   "cell_type": "code",
   "execution_count": null,
   "metadata": {
    "scrolled": false
   },
   "outputs": [],
   "source": [
    "fig, ax = plt.subplots(figsize=(10,8))\n",
    "\n",
    "plt.scatter(new_group['sb-rendah'][new_group['label_kmeans'] == 0],\n",
    "            new_group['sb-tinggi'][new_group['label_kmeans'] == 0],\n",
    "            color = \"blue\", s=100, edgecolor='green',linestyle='--')\n",
    "\n",
    "plt.scatter(new_group['sb-rendah'][new_group['label_kmeans'] == 1],\n",
    "            new_group['sb-tinggi'][new_group['label_kmeans'] == 1],\n",
    "            color = \"red\", s=100, edgecolor='green',linestyle='--')\n",
    "\n",
    "plt.scatter(new_group['sb-rendah'][new_group['label_kmeans'] == 2],\n",
    "            new_group['sb-tinggi'][new_group['label_kmeans'] == 2],\n",
    "            color = \"green\", s=100, edgecolor='green',linestyle='--')\n",
    "\n",
    "centers = kmeans.cluster_centers_\n",
    "\n",
    "plt.scatter(centers[:, 0], centers[:, 1], c='black', s=50);\n",
    "ax.set_xlabel('sb-rendah')\n",
    "ax.set_ylabel('sb-tinggi')\n",
    "plt.show()"
   ]
  },
  {
   "cell_type": "code",
   "execution_count": null,
   "metadata": {},
   "outputs": [],
   "source": [
    "from sklearn.cluster import KMeans\n",
    "wcss = [] \n",
    "\n",
    "for i in range(1, 10): \n",
    "    kmeans = KMeans(n_clusters = i, init = 'k-means++', random_state = 42)\n",
    "    kmeans.fit(group) \n",
    "    wcss.append(kmeans.inertia_)\n",
    "    \n",
    "plt.plot(range(1, 10), wcss)\n",
    "plt.xlabel('Number of clusters')\n",
    "plt.ylabel('WCSS') \n",
    "plt.show()"
   ]
  },
  {
   "cell_type": "code",
   "execution_count": null,
   "metadata": {},
   "outputs": [],
   "source": [
    "kmeans = KMeans(n_clusters = 3, init = \"k-means++\", random_state = 42)\n",
    "y_kmeans = kmeans.fit_predict(group)"
   ]
  },
  {
   "cell_type": "code",
   "execution_count": null,
   "metadata": {},
   "outputs": [],
   "source": [
    "y_kmeans"
   ]
  },
  {
   "cell_type": "code",
   "execution_count": null,
   "metadata": {},
   "outputs": [],
   "source": [
    "plt.scatter(group[y_kmeans == 0, 0], group[y_kmeans == 0, 1], s = 60, c = 'red', label = 'Cluster1')\n",
    "plt.scatter(group[y_kmeans == 1, 0], group[y_kmeans == 1, 1], s = 60, c = 'blue', label = 'Cluster2')\n",
    "plt.scatter(group[y_kmeans == 2, 0], group[y_kmeans == 2, 1], s = 60, c = 'green', label = 'Cluster3')\n",
    "plt.scatter(kmeans.cluster_centers_[:, 0], kmeans.cluster_centers_[:, 1], s = 100, c = 'black', label = 'Centroids')\n",
    "\n",
    "plt.xlabel('sb-rendah') \n",
    "plt.ylabel('sb-tinggi') \n",
    "plt.legend() \n",
    "\n",
    "plt.show()"
   ]
  }
 ],
 "metadata": {
  "kernelspec": {
   "display_name": "Python 3",
   "language": "python",
   "name": "python3"
  },
  "language_info": {
   "codemirror_mode": {
    "name": "ipython",
    "version": 3
   },
   "file_extension": ".py",
   "mimetype": "text/x-python",
   "name": "python",
   "nbconvert_exporter": "python",
   "pygments_lexer": "ipython3",
   "version": "3.8.5"
  }
 },
 "nbformat": 4,
 "nbformat_minor": 4
}
